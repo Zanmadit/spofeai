{
  "cells": [
    {
      "cell_type": "code",
      "execution_count": 5,
      "metadata": {
        "id": "undlUecKM9eu"
      },
      "outputs": [],
      "source": [
        "import pandas as pd\n",
        "from catboost import CatBoostClassifier\n",
        "from sklearn.model_selection import train_test_split\n",
        "from sklearn.preprocessing import LabelEncoder\n",
        "from sklearn.metrics import accuracy_score, f1_score, confusion_matrix, ConfusionMatrixDisplay\n",
        "import matplotlib.pyplot as plt"
      ]
    },
    {
      "cell_type": "code",
      "execution_count": null,
      "metadata": {
        "colab": {
          "base_uri": "https://localhost:8080/"
        },
        "id": "3DdBuv9YbAif",
        "outputId": "cf2e4866-0dbd-4e36-e4d2-9a8fe6833b0a"
      },
      "outputs": [
        {
          "data": {
            "text/plain": [
              "Index(['utcDate', 'home_team', 'away_team', 'home_score', 'away_score',\n",
              "       'Season', 'winner'],\n",
              "      dtype='object')"
            ]
          },
          "execution_count": 6,
          "metadata": {},
          "output_type": "execute_result"
        }
      ],
      "source": [
        "# Load data\n",
        "df = pd.read_csv(\"data.csv\")\n",
        "df.columns"
      ]
    },
    {
      "cell_type": "code",
      "execution_count": 7,
      "metadata": {
        "id": "GWHuhGOqbAif"
      },
      "outputs": [],
      "source": [
        "# Preprocess data\n",
        "home_stats = df.groupby(\"home_team\")[[\"home_score\"]].mean().rename(columns={\"home_score\": \"home_team_avg_goals\"})\n",
        "away_stats = df.groupby(\"away_team\")[[\"away_score\"]].mean().rename(columns={\"away_score\": \"away_team_avg_goals\"})\n",
        "\n",
        "df = df.merge(home_stats, on=\"home_team\", how=\"left\")\n",
        "df = df.merge(away_stats, on=\"away_team\", how=\"left\")\n",
        "\n",
        "# Add goal difference feature\n",
        "df[\"goal_diff_avg\"] = df[\"home_team_avg_goals\"] - df[\"away_team_avg_goals\"]\n",
        "\n",
        "top_teams = [\"Manchester City\", \"Liverpool\", \"Arsenal\", \"Chelsea\", \"Manchester United\"]\n",
        "df[\"home_is_top\"] = df[\"home_team\"].isin(top_teams).astype(int)\n",
        "df[\"away_is_top\"] = df[\"away_team\"].isin(top_teams).astype(int)\n",
        "\n",
        "# Add recent form (last 5 matches) for home and away teams\n",
        "def compute_team_form(df, team_col, score_col, opponent_score_col, new_col):\n",
        "    forms = {}\n",
        "    results = []\n",
        "    for _, row in df.iterrows():\n",
        "        team = row[team_col]\n",
        "        if team not in forms:\n",
        "            forms[team] = []\n",
        "        # Win = 3 points, Draw = 1 point, Loss = 0 points\n",
        "        if row[score_col] > row[opponent_score_col]:\n",
        "            forms[team].append(3)\n",
        "        elif row[score_col] == row[opponent_score_col]:\n",
        "            forms[team].append(1)\n",
        "        else:\n",
        "            forms[team].append(0)\n",
        "        # Average of last 5 matches\n",
        "        results.append(sum(forms[team][-5:]) / len(forms[team][-5:]))\n",
        "    df[new_col] = results\n",
        "    return df\n",
        "\n",
        "df = df.sort_values(\"utcDate\")\n",
        "df = compute_team_form(df, \"home_team\", \"home_score\", \"away_score\", \"home_form\")\n",
        "df = compute_team_form(df, \"away_team\", \"away_score\", \"home_score\", \"away_form\")\n",
        "\n",
        "# Add average points per game for home and away teams\n",
        "team_points = (\n",
        "    df.groupby(\"home_team\")[[\"home_score\", \"away_score\"]]\n",
        "    .apply(lambda x: ((x[\"home_score\"] > x[\"away_score\"]) * 3 + (x[\"home_score\"] == x[\"away_score\"]) * 1).mean())\n",
        "    .rename(\"home_points_avg\")\n",
        ")\n",
        "df = df.merge(team_points, left_on=\"home_team\", right_index=True, how=\"left\")\n",
        "df = df.merge(team_points, left_on=\"away_team\", right_index=True, how=\"left\", suffixes=(\"\", \"_away\"))\n",
        "df[\"points_diff\"] = df[\"home_points_avg\"] - df[\"home_points_avg_away\"]\n",
        "\n",
        "# Prepare features and target\n",
        "le_team = LabelEncoder()\n",
        "df[\"home_team_enc\"] = le_team.fit_transform(df[\"home_team\"])\n",
        "df[\"away_team_enc\"] = le_team.fit_transform(df[\"away_team\"])\n",
        "\n",
        "features = [\n",
        "    \"home_team_enc\",\n",
        "    \"away_team_enc\",\n",
        "    \"home_team_avg_goals\",\n",
        "    \"away_team_avg_goals\",\n",
        "    \"goal_diff_avg\",\n",
        "    \"home_is_top\",\n",
        "    \"away_is_top\",\n",
        "    \"home_form\",\n",
        "    \"away_form\",\n",
        "    \"points_diff\"\n",
        "]\n",
        "target = \"winner\"\n",
        "\n",
        "# Split data\n",
        "X = df[features]\n",
        "y = df[target]\n",
        "\n",
        "X_train, X_test, y_train, y_test = train_test_split(\n",
        "    X, y, test_size=0.2, random_state=42, stratify=y\n",
        ")"
      ]
    },
    {
      "cell_type": "code",
      "execution_count": 8,
      "metadata": {
        "colab": {
          "base_uri": "https://localhost:8080/"
        },
        "id": "r0AmhLs9bAif",
        "outputId": "161dae8c-98b9-46f4-e02b-6da35fd09bc0"
      },
      "outputs": [
        {
          "data": {
            "text/plain": [
              "<catboost.core.CatBoostClassifier at 0x7d13dca4c350>"
            ]
          },
          "execution_count": 8,
          "metadata": {},
          "output_type": "execute_result"
        }
      ],
      "source": [
        "# Training\n",
        "model = CatBoostClassifier(\n",
        "    iterations=1000,\n",
        "    depth=8,\n",
        "    learning_rate=0.03,\n",
        "    loss_function='MultiClass',\n",
        "    random_seed=42,\n",
        "    verbose=False\n",
        ")\n",
        "cat_features = [\"home_team_enc\", \"away_team_enc\"]\n",
        "model.fit(X_train, y_train, cat_features=cat_features)"
      ]
    },
    {
      "cell_type": "code",
      "execution_count": 9,
      "metadata": {
        "colab": {
          "base_uri": "https://localhost:8080/"
        },
        "id": "vUs0lVK8bAig",
        "outputId": "5a3bd0bb-37d0-48f8-f435-d563617aa481"
      },
      "outputs": [
        {
          "name": "stdout",
          "output_type": "stream",
          "text": [
            "Accuracy: 0.656\n",
            "F1-score: 0.637\n"
          ]
        }
      ],
      "source": [
        "# Predictions and Evaluation\n",
        "y_pred = model.predict(X_test).flatten()\n",
        "\n",
        "acc = accuracy_score(y_test, y_pred)\n",
        "f1 = f1_score(y_test, y_pred, average=\"weighted\")\n",
        "\n",
        "print(f\"Accuracy: {acc:.3f}\")\n",
        "print(f\"F1-score: {f1:.3f}\")"
      ]
    },
    {
      "cell_type": "code",
      "execution_count": 10,
      "metadata": {
        "colab": {
          "base_uri": "https://localhost:8080/",
          "height": 472
        },
        "id": "bcgcRzavbAig",
        "outputId": "68afa540-ccc8-408a-81b0-da48dc2d84b6"
      },
      "outputs": [
        {
          "data": {
            "image/png": "[encoded data removed]",
            "text/plain": [
              "<Figure size 640x480 with 2 Axes>"
            ]
          },
          "metadata": {},
          "output_type": "display_data"
        }
      ],
      "source": [
        "# Error matrix\n",
        "cm = confusion_matrix(y_test, y_pred, labels=model.classes_)\n",
        "disp = ConfusionMatrixDisplay(confusion_matrix=cm, display_labels=model.classes_)\n",
        "disp.plot(cmap=\"Blues\")\n",
        "plt.title(\"CatBoost Confusion Matrix\")\n",
        "plt.show()"
      ]
    },
    {
      "cell_type": "code",
      "execution_count": 11,
      "metadata": {
        "colab": {
          "base_uri": "https://localhost:8080/"
        },
        "id": "XW0iUhsDbAig",
        "outputId": "e17002f9-0308-4d47-dee1-c61916181bca"
      },
      "outputs": [
        {
          "name": "stdout",
          "output_type": "stream",
          "text": [
            "\n",
            " Feature Importances:\n",
            "            Feature Id  Importances\n",
            "0            home_form    27.664309\n",
            "1            away_form    23.867543\n",
            "2        home_team_enc    16.695035\n",
            "3        away_team_enc    15.884099\n",
            "4          points_diff     4.288749\n",
            "5        goal_diff_avg     3.964941\n",
            "6  away_team_avg_goals     3.382510\n",
            "7  home_team_avg_goals     3.307906\n",
            "8          home_is_top     0.525993\n",
            "9          away_is_top     0.418915\n"
          ]
        }
      ],
      "source": [
        "# Feature Importances\n",
        "feat_imp = model.get_feature_importance(prettified=True)\n",
        "print(\"\\n Feature Importances:\")\n",
        "print(feat_imp)"
      ]
    },
    {
      "cell_type": "code",
      "execution_count": null,
      "metadata": {},
      "outputs": [],
      "source": [
        "import pickle\n",
        "\n",
        "with open(\"models/model.pkl\", \"wb\") as f:\n",
        "    pickle.dump({\"model\": model, \"encoder\": le_team}, f)\n",
        "\n",
        "print(\"model.pkl saved\")"
      ]
    },
    {
      "cell_type": "code",
      "execution_count": null,
      "metadata": {
        "id": "qa4BLp4jY1-3"
      },
      "outputs": [],
      "source": [
        "df.to_csv(\"data/features.csv\", index=False)"
      ]
    }
  ],
  "metadata": {
    "colab": {
      "provenance": []
    },
    "kernelspec": {
      "display_name": "Python 3",
      "name": "python3"
    },
    "language_info": {
      "name": "python"
    }
  },
  "nbformat": 4,
  "nbformat_minor": 0
}
